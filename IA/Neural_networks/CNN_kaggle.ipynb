{
 "cells": [
  {
   "cell_type": "code",
   "execution_count": null,
   "metadata": {},
   "outputs": [],
   "source": [
    "import tensorflow as tf\n",
    "from tensorflow.keras.models import Sequential\n",
    "from tensorflow.keras.layers import Dense, Dropout, Activation, Flatten, Conv2D, MaxPooling2D, MaxPool2D,Input, Rescaling\n",
    "from tensorflow.keras.callbacks import TensorBoard, ReduceLROnPlateau\n",
    "from tensorflow import keras\n",
    "import pickle\n",
    "import numpy as np\n",
    "\n",
    "\n",
    "X_kaggle= pickle.load(open(\"X_kaggle.pickle\",\"rb\"))\n",
    "y_kaggle= pickle.load(open(\"y_kaggle.pickle\",\"rb\"))\n",
    "\n",
    "#Prepare the data\n",
    "X_kaggle = X_kaggle/255.0\n",
    "y_kaggle= np.array(y_kaggle)\n",
    "y_kaggle= tf.one_hot(y_kaggle,depth=3)"
   ]
  },
  {
   "cell_type": "code",
   "execution_count": null,
   "metadata": {},
   "outputs": [],
   "source": [
    "#First \"layer\"\n",
    "\n",
    "model= Sequential()\n",
    "\n",
    "model.add(Conv2D(32, (9,9),activation=\"relu\", strides=(1,1), input_shape= X_kaggle.shape[1:], padding=\"valid\")) # Numbers of filters (neurons) that convolutional layers will learn from (recommend to use a power of 2), dimension of the window (must be an odd integer)\n",
    "model.add(Activation(\"relu\"))\n",
    "model.add(MaxPooling2D(pool_size =(2,2), strides=(2,2), padding=\"valid\")) \n",
    "\n",
    "\n",
    "model.add(Conv2D(64, (9,9),activation=\"relu\", strides=(1,1), input_shape= X_kaggle.shape[1:], padding=\"valid\")) # Numbers of filters (neurons) that convolutional layers will learn from (recommend to use a power of 2), dimension of the window (must be an odd integer)\n",
    "model.add(Activation(\"relu\"))\n",
    "model.add(MaxPooling2D(pool_size =(2,2), strides=(2,2), padding=\"valid\")) \n",
    "\n",
    "model.add(Conv2D(128, (9,9),activation=\"relu\", strides=(1,1), input_shape= X_kaggle.shape[1:], padding=\"valid\")) #Change 512 en 128 Numbers of filters (neurons) that convolutional layers will learn from (recommend to use a power of 2), dimension of the window (must be an odd integer)\n",
    "model.add(Activation(\"relu\"))\n",
    "model.add(MaxPooling2D(pool_size =(2,2), strides=(1,1), padding=\"valid\"))\n",
    "\n",
    "#Flatten the data because CNN is 2D and Dense layer wants 1D\n",
    "\n",
    "model.add(Flatten())\n",
    "\n",
    "#Dense layers                                                                                                                                                                                                                        \n",
    "\n",
    "model.add(Dense(128, activation='relu'))\n",
    "#model.add(Dropout(0.3))\n",
    "\n",
    "model.add(Dense(128,activation='relu'))\n",
    "#model.add(Dropout(0.2))\n",
    "\n",
    "model.add(Dense(32,activation=\"relu\"))\n",
    "#model.add(Dropout(0.1))\n",
    "\n",
    "model.add(Dense(16,activation=\"relu\"))\n",
    "#model.add(Dropout(0.2))\n",
    "\n",
    "#Output layer\n",
    "\n",
    "model.add(Dense(3))\n",
    "model.add(Activation(\"softmax\"))\n",
    "\n",
    "model.compile(loss=\"categorical_crossentropy\", optimizer=\"adam\", metrics= ['accuracy'])\n",
    "tensorboard = TensorBoard(log_dir=\"logs\\\\fit\\\\\".format(model))\n",
    "\n",
    "model.fit(X_kaggle, y_kaggle, batch_size=150, epochs=11, validation_split=0.2, callbacks=[tensorboard])"
   ]
  },
  {
   "cell_type": "code",
   "execution_count": null,
   "metadata": {},
   "outputs": [],
   "source": [
    "model.save('new_model_CNN_kaggle_8585.h5')"
   ]
  },
  {
   "cell_type": "code",
   "execution_count": null,
   "metadata": {},
   "outputs": [],
   "source": [
    "loaded_model= tf.keras.models.load_model('new_model_CNN_kaggle_8585.h5')\n",
    "loaded_model.summary()\n"
   ]
  },
  {
   "cell_type": "code",
   "execution_count": null,
   "metadata": {},
   "outputs": [],
   "source": [
    "import matplotlib.pyplot as plt\n",
    "new_X0 = np.expand_dims(X_kaggle[42],0)"
   ]
  },
  {
   "cell_type": "code",
   "execution_count": null,
   "metadata": {},
   "outputs": [],
   "source": [
    "prediction = loaded_model.predict(new_X0)\n",
    "print(prediction)"
   ]
  }
 ],
 "metadata": {
  "language_info": {
   "name": "python"
  },
  "orig_nbformat": 4
 },
 "nbformat": 4,
 "nbformat_minor": 2
}
